{
 "cells": [
  {
   "cell_type": "code",
   "execution_count": 1,
   "id": "8073d9a3",
   "metadata": {},
   "outputs": [
    {
     "name": "stdout",
     "output_type": "stream",
     "text": [
      "Requirement already satisfied: pandas in c:\\users\\dell\\anaconda3\\lib\\site-packages (2.0.3)\n",
      "Requirement already satisfied: numpy in c:\\users\\dell\\anaconda3\\lib\\site-packages (1.24.3)\n",
      "Collecting ta\n",
      "  Downloading ta-0.11.0.tar.gz (25 kB)\n",
      "  Preparing metadata (setup.py): started\n",
      "  Preparing metadata (setup.py): finished with status 'done'\n",
      "Requirement already satisfied: python-dateutil>=2.8.2 in c:\\users\\dell\\anaconda3\\lib\\site-packages (from pandas) (2.8.2)\n",
      "Requirement already satisfied: pytz>=2020.1 in c:\\users\\dell\\anaconda3\\lib\\site-packages (from pandas) (2023.3.post1)\n",
      "Requirement already satisfied: tzdata>=2022.1 in c:\\users\\dell\\anaconda3\\lib\\site-packages (from pandas) (2023.3)\n",
      "Requirement already satisfied: six>=1.5 in c:\\users\\dell\\anaconda3\\lib\\site-packages (from python-dateutil>=2.8.2->pandas) (1.16.0)\n",
      "Building wheels for collected packages: ta\n",
      "  Building wheel for ta (setup.py): started\n",
      "  Building wheel for ta (setup.py): finished with status 'done'\n",
      "  Created wheel for ta: filename=ta-0.11.0-py3-none-any.whl size=29422 sha256=f842879a036938a97c19aca38693bd8a7fd6f740494b7db71f09a8e8a754828f\n",
      "  Stored in directory: c:\\users\\dell\\appdata\\local\\pip\\cache\\wheels\\a1\\d7\\29\\7781cc5eb9a3659d032d7d15bdd0f49d07d2b24fec29f44bc4\n",
      "Successfully built ta\n",
      "Installing collected packages: ta\n",
      "Successfully installed ta-0.11.0\n",
      "Note: you may need to restart the kernel to use updated packages.\n"
     ]
    }
   ],
   "source": [
    "pip install pandas numpy ta"
   ]
  },
  {
   "cell_type": "code",
   "execution_count": 3,
   "id": "3240ce35",
   "metadata": {},
   "outputs": [],
   "source": [
    "import pandas as pd\n",
    "import numpy as np\n",
    "import ta"
   ]
  },
  {
   "cell_type": "code",
   "execution_count": 4,
   "id": "39d4f781",
   "metadata": {},
   "outputs": [
    {
     "name": "stdout",
     "output_type": "stream",
     "text": [
      "Collecting yfinance\n",
      "  Obtaining dependency information for yfinance from https://files.pythonhosted.org/packages/39/29/89572cb0c65b07a1c4e5cd53eb0a0f947f2ece53fef6ed7da90cfab7d2a9/yfinance-0.2.43-py2.py3-none-any.whl.metadata\n",
      "  Downloading yfinance-0.2.43-py2.py3-none-any.whl.metadata (11 kB)\n",
      "Requirement already satisfied: pandas>=1.3.0 in c:\\users\\dell\\anaconda3\\lib\\site-packages (from yfinance) (2.0.3)\n",
      "Requirement already satisfied: numpy>=1.16.5 in c:\\users\\dell\\anaconda3\\lib\\site-packages (from yfinance) (1.24.3)\n",
      "Requirement already satisfied: requests>=2.31 in c:\\users\\dell\\anaconda3\\lib\\site-packages (from yfinance) (2.31.0)\n",
      "Collecting multitasking>=0.0.7 (from yfinance)\n",
      "  Obtaining dependency information for multitasking>=0.0.7 from https://files.pythonhosted.org/packages/3e/8a/bb3160e76e844db9e69a413f055818969c8acade64e1a9ac5ce9dfdcf6c1/multitasking-0.0.11-py3-none-any.whl.metadata\n",
      "  Downloading multitasking-0.0.11-py3-none-any.whl.metadata (5.5 kB)\n",
      "Requirement already satisfied: lxml>=4.9.1 in c:\\users\\dell\\anaconda3\\lib\\site-packages (from yfinance) (4.9.3)\n",
      "Requirement already satisfied: platformdirs>=2.0.0 in c:\\users\\dell\\anaconda3\\lib\\site-packages (from yfinance) (3.10.0)\n",
      "Requirement already satisfied: pytz>=2022.5 in c:\\users\\dell\\anaconda3\\lib\\site-packages (from yfinance) (2023.3.post1)\n",
      "Collecting frozendict>=2.3.4 (from yfinance)\n",
      "  Obtaining dependency information for frozendict>=2.3.4 from https://files.pythonhosted.org/packages/6a/71/3656c00606e75e81f11721e6a1c973c3e03da8c7d8b665d20f78245384c6/frozendict-2.4.4-py311-none-any.whl.metadata\n",
      "  Downloading frozendict-2.4.4-py311-none-any.whl.metadata (23 kB)\n",
      "Collecting peewee>=3.16.2 (from yfinance)\n",
      "  Downloading peewee-3.17.6.tar.gz (3.0 MB)\n",
      "     ---------------------------------------- 0.0/3.0 MB ? eta -:--:--\n",
      "     ---------------------------------------- 0.0/3.0 MB ? eta -:--:--\n",
      "     ---------------------------------------- 0.0/3.0 MB 640.0 kB/s eta 0:00:05\n",
      "     ---------------------------------------- 0.0/3.0 MB 640.0 kB/s eta 0:00:05\n",
      "     ---------------------------------------- 0.0/3.0 MB 640.0 kB/s eta 0:00:05\n",
      "     ---------------------------------------- 0.0/3.0 MB 640.0 kB/s eta 0:00:05\n",
      "     - -------------------------------------- 0.1/3.0 MB 348.6 kB/s eta 0:00:09\n",
      "     - -------------------------------------- 0.1/3.0 MB 348.6 kB/s eta 0:00:09\n",
      "     - -------------------------------------- 0.1/3.0 MB 348.6 kB/s eta 0:00:09\n",
      "     - -------------------------------------- 0.1/3.0 MB 348.6 kB/s eta 0:00:09\n",
      "     - -------------------------------------- 0.1/3.0 MB 348.6 kB/s eta 0:00:09\n",
      "     - -------------------------------------- 0.1/3.0 MB 348.6 kB/s eta 0:00:09\n",
      "     - -------------------------------------- 0.1/3.0 MB 348.6 kB/s eta 0:00:09\n",
      "     - -------------------------------------- 0.1/3.0 MB 348.6 kB/s eta 0:00:09\n",
      "     - -------------------------------------- 0.1/3.0 MB 348.6 kB/s eta 0:00:09\n",
      "     - -------------------------------------- 0.1/3.0 MB 348.6 kB/s eta 0:00:09\n",
      "     - -------------------------------------- 0.1/3.0 MB 348.6 kB/s eta 0:00:09\n",
      "     - -------------------------------------- 0.1/3.0 MB 348.6 kB/s eta 0:00:09\n",
      "     - -------------------------------------- 0.1/3.0 MB 348.6 kB/s eta 0:00:09\n",
      "     - -------------------------------------- 0.1/3.0 MB 348.6 kB/s eta 0:00:09\n",
      "     - -------------------------------------- 0.1/3.0 MB 348.6 kB/s eta 0:00:09\n",
      "     - -------------------------------------- 0.1/3.0 MB 348.6 kB/s eta 0:00:09\n",
      "     - -------------------------------------- 0.1/3.0 MB 105.7 kB/s eta 0:00:27\n",
      "     -- ------------------------------------- 0.2/3.0 MB 153.6 kB/s eta 0:00:19\n",
      "     -- ------------------------------------- 0.2/3.0 MB 153.6 kB/s eta 0:00:19\n",
      "     -- ------------------------------------- 0.2/3.0 MB 153.6 kB/s eta 0:00:19\n",
      "     -- ------------------------------------- 0.2/3.0 MB 153.6 kB/s eta 0:00:19\n",
      "     -- ------------------------------------- 0.2/3.0 MB 153.6 kB/s eta 0:00:19\n",
      "     -- ------------------------------------- 0.2/3.0 MB 151.8 kB/s eta 0:00:19\n",
      "     --- ------------------------------------ 0.3/3.0 MB 200.3 kB/s eta 0:00:14\n",
      "     ---- ----------------------------------- 0.3/3.0 MB 238.3 kB/s eta 0:00:11\n",
      "     ------ --------------------------------- 0.5/3.0 MB 334.7 kB/s eta 0:00:08\n",
      "     -------- ------------------------------- 0.6/3.0 MB 420.6 kB/s eta 0:00:06\n",
      "     --------- ------------------------------ 0.7/3.0 MB 447.8 kB/s eta 0:00:06\n",
      "     ---------- ----------------------------- 0.7/3.0 MB 466.9 kB/s eta 0:00:05\n",
      "     ----------- ---------------------------- 0.9/3.0 MB 523.0 kB/s eta 0:00:05\n",
      "     ------------ --------------------------- 0.9/3.0 MB 551.2 kB/s eta 0:00:04\n",
      "     -------------- ------------------------- 1.1/3.0 MB 613.6 kB/s eta 0:00:04\n",
      "     --------------- ------------------------ 1.1/3.0 MB 649.5 kB/s eta 0:00:03\n",
      "     ---------------- ----------------------- 1.2/3.0 MB 660.8 kB/s eta 0:00:03\n",
      "     ------------------ --------------------- 1.3/3.0 MB 715.7 kB/s eta 0:00:03\n",
      "     ------------------- -------------------- 1.4/3.0 MB 741.0 kB/s eta 0:00:03\n",
      "     -------------------- ------------------- 1.5/3.0 MB 771.4 kB/s eta 0:00:02\n",
      "     ---------------------- ----------------- 1.6/3.0 MB 814.1 kB/s eta 0:00:02\n",
      "     ----------------------- ---------------- 1.7/3.0 MB 846.6 kB/s eta 0:00:02\n",
      "     ------------------------- -------------- 1.9/3.0 MB 885.1 kB/s eta 0:00:02\n",
      "     -------------------------- ------------- 1.9/3.0 MB 901.1 kB/s eta 0:00:02\n",
      "     --------------------------- ------------ 2.0/3.0 MB 922.0 kB/s eta 0:00:02\n",
      "     ---------------------------- ----------- 2.1/3.0 MB 948.4 kB/s eta 0:00:01\n",
      "     ------------------------------ --------- 2.2/3.0 MB 969.3 kB/s eta 0:00:01\n",
      "     ------------------------------- -------- 2.3/3.0 MB 993.7 kB/s eta 0:00:01\n",
      "     --------------------------------- ------ 2.4/3.0 MB 1.0 MB/s eta 0:00:01\n",
      "     ---------------------------------- ----- 2.5/3.0 MB 1.0 MB/s eta 0:00:01\n",
      "     ------------------------------------ --- 2.7/3.0 MB 1.1 MB/s eta 0:00:01\n",
      "     ------------------------------------- -- 2.8/3.0 MB 1.1 MB/s eta 0:00:01\n",
      "     -------------------------------------- - 2.9/3.0 MB 1.1 MB/s eta 0:00:01\n",
      "     ---------------------------------------  2.9/3.0 MB 1.1 MB/s eta 0:00:01\n",
      "     ---------------------------------------- 3.0/3.0 MB 1.1 MB/s eta 0:00:00\n",
      "  Installing build dependencies: started\n",
      "  Installing build dependencies: finished with status 'done'\n",
      "  Getting requirements to build wheel: started\n",
      "  Getting requirements to build wheel: finished with status 'done'\n",
      "  Preparing metadata (pyproject.toml): started\n",
      "  Preparing metadata (pyproject.toml): finished with status 'done'\n",
      "Requirement already satisfied: beautifulsoup4>=4.11.1 in c:\\users\\dell\\anaconda3\\lib\\site-packages (from yfinance) (4.12.2)\n",
      "Collecting html5lib>=1.1 (from yfinance)\n",
      "  Obtaining dependency information for html5lib>=1.1 from https://files.pythonhosted.org/packages/6c/dd/a834df6482147d48e225a49515aabc28974ad5a4ca3215c18a882565b028/html5lib-1.1-py2.py3-none-any.whl.metadata\n",
      "  Downloading html5lib-1.1-py2.py3-none-any.whl.metadata (16 kB)\n",
      "Requirement already satisfied: soupsieve>1.2 in c:\\users\\dell\\anaconda3\\lib\\site-packages (from beautifulsoup4>=4.11.1->yfinance) (2.4)\n",
      "Requirement already satisfied: six>=1.9 in c:\\users\\dell\\anaconda3\\lib\\site-packages (from html5lib>=1.1->yfinance) (1.16.0)\n",
      "Requirement already satisfied: webencodings in c:\\users\\dell\\anaconda3\\lib\\site-packages (from html5lib>=1.1->yfinance) (0.5.1)\n",
      "Requirement already satisfied: python-dateutil>=2.8.2 in c:\\users\\dell\\anaconda3\\lib\\site-packages (from pandas>=1.3.0->yfinance) (2.8.2)\n",
      "Requirement already satisfied: tzdata>=2022.1 in c:\\users\\dell\\anaconda3\\lib\\site-packages (from pandas>=1.3.0->yfinance) (2023.3)\n",
      "Requirement already satisfied: charset-normalizer<4,>=2 in c:\\users\\dell\\anaconda3\\lib\\site-packages (from requests>=2.31->yfinance) (2.0.4)\n",
      "Requirement already satisfied: idna<4,>=2.5 in c:\\users\\dell\\anaconda3\\lib\\site-packages (from requests>=2.31->yfinance) (3.4)\n",
      "Requirement already satisfied: urllib3<3,>=1.21.1 in c:\\users\\dell\\anaconda3\\lib\\site-packages (from requests>=2.31->yfinance) (1.26.16)\n",
      "Requirement already satisfied: certifi>=2017.4.17 in c:\\users\\dell\\anaconda3\\lib\\site-packages (from requests>=2.31->yfinance) (2023.7.22)\n",
      "Downloading yfinance-0.2.43-py2.py3-none-any.whl (84 kB)\n",
      "   ---------------------------------------- 0.0/84.6 kB ? eta -:--:--\n",
      "   ------------------- -------------------- 41.0/84.6 kB 991.0 kB/s eta 0:00:01\n",
      "   ---------------------------------------- 84.6/84.6 kB 1.6 MB/s eta 0:00:00\n",
      "Downloading frozendict-2.4.4-py311-none-any.whl (16 kB)\n",
      "Downloading html5lib-1.1-py2.py3-none-any.whl (112 kB)\n",
      "   ---------------------------------------- 0.0/112.2 kB ? eta -:--:--\n",
      "   ---------------------------------------- 112.2/112.2 kB 3.3 MB/s eta 0:00:00\n",
      "Downloading multitasking-0.0.11-py3-none-any.whl (8.5 kB)\n",
      "Building wheels for collected packages: peewee\n",
      "  Building wheel for peewee (pyproject.toml): started\n",
      "  Building wheel for peewee (pyproject.toml): finished with status 'done'\n",
      "  Created wheel for peewee: filename=peewee-3.17.6-py3-none-any.whl size=138938 sha256=930a34f2ed683c0fae23ef9772388116b2afef69b84a6e956104cfc7e763dedf\n",
      "  Stored in directory: c:\\users\\dell\\appdata\\local\\pip\\cache\\wheels\\1c\\09\\7e\\9f659fde248ecdc1722a142c1d744271aad3914a0afc191058\n",
      "Successfully built peewee\n",
      "Installing collected packages: peewee, multitasking, html5lib, frozendict, yfinance\n",
      "Successfully installed frozendict-2.4.4 html5lib-1.1 multitasking-0.0.11 peewee-3.17.6 yfinance-0.2.43\n",
      "Note: you may need to restart the kernel to use updated packages.\n"
     ]
    }
   ],
   "source": [
    "pip install yfinance"
   ]
  },
  {
   "cell_type": "code",
   "execution_count": 5,
   "id": "6149ce68",
   "metadata": {},
   "outputs": [],
   "source": [
    "import yfinance as yf"
   ]
  },
  {
   "cell_type": "code",
   "execution_count": 7,
   "id": "9d71c55e",
   "metadata": {},
   "outputs": [],
   "source": [
    "# Fetch stock data\n",
    "def get_stock_data(ticker, period='1y', interval='1d'):\n",
    "    data = yf.download(ticker, period=period, interval=interval)\n",
    "    return data"
   ]
  },
  {
   "cell_type": "code",
   "execution_count": 8,
   "id": "c83a7739",
   "metadata": {},
   "outputs": [],
   "source": [
    "# Calculate RSI\n",
    "def calculate_rsi(data, window=14):\n",
    "    rsi = ta.momentum.RSIIndicator(data['Close'], window=window)\n",
    "    data['RSI'] = rsi.rsi()\n",
    "    return data"
   ]
  },
  {
   "cell_type": "code",
   "execution_count": 9,
   "id": "aca386b8",
   "metadata": {},
   "outputs": [],
   "source": [
    "# Calculate MACD\n",
    "def calculate_macd(data, window_slow=26, window_fast=12, window_sign=9):\n",
    "    macd = ta.trend.MACD(data['Close'], window_slow=window_slow, window_fast=window_fast, window_sign=window_sign)\n",
    "    data['MACD'] = macd.macd()\n",
    "    data['MACD_Signal'] = macd.macd_signal()\n",
    "    data['MACD_Diff'] = macd.macd_diff()\n",
    "    return data"
   ]
  },
  {
   "cell_type": "code",
   "execution_count": 10,
   "id": "3184d3d0",
   "metadata": {},
   "outputs": [],
   "source": [
    "# Generate trading signals\n",
    "def generate_signals(data):\n",
    "    data['Buy_Signal'] = np.where((data['RSI'] < 30) & (data['MACD'] > data['MACD_Signal']), 1, 0)\n",
    "    data['Sell_Signal'] = np.where((data['RSI'] > 70) & (data['MACD'] < data['MACD_Signal']), -1, 0)\n",
    "    return data"
   ]
  },
  {
   "cell_type": "code",
   "execution_count": 11,
   "id": "2d3d0302",
   "metadata": {},
   "outputs": [],
   "source": [
    "# Execute trading strategy\n",
    "def execute_strategy(data):\n",
    "    position = 0  # 1 means holding the stock, 0 means not holding\n",
    "    buy_price = 0\n",
    "    for i in range(len(data)):\n",
    "        if data['Buy_Signal'][i] == 1 and position == 0:\n",
    "            buy_price = data['Close'][i]\n",
    "            position = 1\n",
    "            print(f\"Buying at {buy_price} on {data.index[i]}\")\n",
    "        elif data['Sell_Signal'][i] == -1 and position == 1:\n",
    "            sell_price = data['Close'][i]\n",
    "            position = 0\n",
    "            print(f\"Selling at {sell_price} on {data.index[i]}\")\n",
    "            profit = sell_price - buy_price\n",
    "            print(f\"Profit: {profit}\")"
   ]
  },
  {
   "cell_type": "code",
   "execution_count": 12,
   "id": "7d7250c7",
   "metadata": {},
   "outputs": [
    {
     "name": "stderr",
     "output_type": "stream",
     "text": [
      "[*********************100%***********************]  1 of 1 completed\n"
     ]
    }
   ],
   "source": [
    "# Main function\n",
    "def main():\n",
    "    ticker = 'AAPL'  # Example ticker\n",
    "    data = get_stock_data(ticker)\n",
    "    data = calculate_rsi(data)\n",
    "    data = calculate_macd(data)\n",
    "    data = generate_signals(data)\n",
    "    execute_strategy(data)\n",
    "\n",
    "if __name__ == \"__main__\":\n",
    "    main()"
   ]
  },
  {
   "cell_type": "code",
   "execution_count": null,
   "id": "60e2be70",
   "metadata": {},
   "outputs": [],
   "source": []
  }
 ],
 "metadata": {
  "kernelspec": {
   "display_name": "Python 3 (ipykernel)",
   "language": "python",
   "name": "python3"
  },
  "language_info": {
   "codemirror_mode": {
    "name": "ipython",
    "version": 3
   },
   "file_extension": ".py",
   "mimetype": "text/x-python",
   "name": "python",
   "nbconvert_exporter": "python",
   "pygments_lexer": "ipython3",
   "version": "3.11.5"
  }
 },
 "nbformat": 4,
 "nbformat_minor": 5
}
